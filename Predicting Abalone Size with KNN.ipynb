{
 "cells": [
  {
   "cell_type": "code",
   "execution_count": 1,
   "metadata": {
    "collapsed": true
   },
   "outputs": [],
   "source": [
    "import numpy as np\n",
    "\n",
    "from sklearn.preprocessing import Imputer\n",
    "from sklearn.metrics import accuracy_score\n",
    "from sklearn.neighbors import KNeighborsClassifier\n",
    "from sklearn.model_selection import train_test_split"
   ]
  },
  {
   "cell_type": "code",
   "execution_count": 2,
   "metadata": {},
   "outputs": [
    {
     "name": "stdout",
     "output_type": "stream",
     "text": [
      "Dataset Length:  4177\n",
      "Dataset:  [[     nan   0.455    0.365  ...,   0.101    0.15    15.    ]\n",
      " [     nan   0.35     0.265  ...,   0.0485   0.07     7.    ]\n",
      " [     nan   0.53     0.42   ...,   0.1415   0.21     9.    ]\n",
      " ..., \n",
      " [     nan   0.6      0.475  ...,   0.2875   0.308    9.    ]\n",
      " [     nan   0.625    0.485  ...,   0.261    0.296   10.    ]\n",
      " [     nan   0.71     0.555  ...,   0.3765   0.495   12.    ]]\n",
      "Dataset Shape:  (4177, 9)\n"
     ]
    }
   ],
   "source": [
    "abalone_ds = np.genfromtxt(fname ='../../../data/BISON/Abalone.data', delimiter= ',', dtype= float)\n",
    "print('Dataset Length: ', len(abalone_ds))\n",
    "print('Dataset: ', str(abalone_ds))\n",
    "print('Dataset Shape: ', abalone_ds.shape)"
   ]
  },
  {
   "cell_type": "code",
   "execution_count": 3,
   "metadata": {
    "collapsed": true
   },
   "outputs": [],
   "source": [
    "abalone_ds = np.delete(arr=abalone_ds, obj=0, axis=1)"
   ]
  },
  {
   "cell_type": "code",
   "execution_count": 6,
   "metadata": {},
   "outputs": [],
   "source": [
    "X = abalone_ds[:,range(0,7)]\n",
    "Y = abalone_ds[:,7]"
   ]
  },
  {
   "cell_type": "code",
   "execution_count": 7,
   "metadata": {
    "collapsed": true
   },
   "outputs": [],
   "source": [
    "imp = Imputer(missing_values='NaN', strategy='median', axis=0)\n",
    "X = imp.fit_transform(X)"
   ]
  },
  {
   "cell_type": "code",
   "execution_count": 8,
   "metadata": {
    "collapsed": true
   },
   "outputs": [],
   "source": [
    "X_train, X_test, y_train, y_test = train_test_split(\n",
    "X, Y, test_size = 0.3, random_state = 100)\n",
    "y_train = y_train.ravel()\n",
    "y_test = y_test.ravel()"
   ]
  },
  {
   "cell_type": "code",
   "execution_count": 11,
   "metadata": {},
   "outputs": [
    {
     "name": "stdout",
     "output_type": "stream",
     "text": [
      "Accuracy is  18.5007974482 % for K-Value: 1\n",
      "Accuracy is  21.2918660287 % for K-Value: 2\n",
      "Accuracy is  20.7336523126 % for K-Value: 3\n",
      "Accuracy is  20.653907496 % for K-Value: 4\n",
      "Accuracy is  21.3716108453 % for K-Value: 5\n",
      "Accuracy is  22.8070175439 % for K-Value: 6\n",
      "Accuracy is  23.7639553429 % for K-Value: 7\n",
      "Accuracy is  23.2854864434 % for K-Value: 8\n",
      "Accuracy is  23.7639553429 % for K-Value: 9\n",
      "Accuracy is  24.4019138756 % for K-Value: 10\n"
     ]
    }
   ],
   "source": [
    "for K in range(50):\n",
    "    K_value = K+1\n",
    "    neigh = KNeighborsClassifier(n_neighbors = K_value, weights='uniform', algorithm='auto')\n",
    "    neigh.fit(X_train, y_train)\n",
    "    y_pred = neigh.predict(X_test)\n",
    "    print('Accuracy is ', accuracy_score(y_test,y_pred)*100,'% for K-Value:',K_value)"
   ]
  },
  {
   "cell_type": "code",
   "execution_count": null,
   "metadata": {
    "collapsed": true
   },
   "outputs": [],
   "source": []
  }
 ],
 "metadata": {
  "kernelspec": {
   "display_name": "Python 3",
   "language": "python",
   "name": "python3"
  },
  "language_info": {
   "codemirror_mode": {
    "name": "ipython",
    "version": 3
   },
   "file_extension": ".py",
   "mimetype": "text/x-python",
   "name": "python",
   "nbconvert_exporter": "python",
   "pygments_lexer": "ipython3",
   "version": "3.6.1"
  }
 },
 "nbformat": 4,
 "nbformat_minor": 2
}
